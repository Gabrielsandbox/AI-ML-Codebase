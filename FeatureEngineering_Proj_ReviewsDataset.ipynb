{
  "nbformat": 4,
  "nbformat_minor": 0,
  "metadata": {
    "colab": {
      "provenance": [],
      "authorship_tag": "ABX9TyNb0f1pLtwXYMeU7blln4SB",
      "include_colab_link": true
    },
    "kernelspec": {
      "name": "python3",
      "display_name": "Python 3"
    },
    "language_info": {
      "name": "python"
    }
  },
  "cells": [
    {
      "cell_type": "markdown",
      "metadata": {
        "id": "view-in-github",
        "colab_type": "text"
      },
      "source": [
        "<a href=\"https://colab.research.google.com/github/Gabrielsandbox/AI-ML-Codebase/blob/main/FeatureEngineering_Proj_ReviewsDataset.ipynb\" target=\"_parent\"><img src=\"https://colab.research.google.com/assets/colab-badge.svg\" alt=\"Open In Colab\"/></a>"
      ]
    },
    {
      "cell_type": "code",
      "execution_count": null,
      "metadata": {
        "id": "pZ7SzYykodxm"
      },
      "outputs": [],
      "source": [
        "import pandas as pd\n",
        "import numpy as np\n",
        "from sklearn.preprocessing import StandardScaler\n",
        "\n",
        "#import data\n",
        "reviews = pd.read_csv('reviews.csv')\n",
        "\n",
        "#print column names\n",
        "print(reviews.columns)\n",
        "\n",
        "#print .info\n",
        "print(reviews.info())\n",
        "\n",
        "#look at the counts of recommended\n",
        "print(reviews['recommended'].value_counts())\n",
        "\n",
        "#create binary dictionary\n",
        "binary_dict = { True:1, False:0 }\n",
        "\n",
        "#transform column\n",
        "reviews['recommended'] = reviews['recommended'].map(binary_dict)\n",
        "\n",
        "#print your transformed column\n",
        "print(reviews['recommended'].head())\n",
        "print(reviews['recommended'].value_counts())\n",
        "\n",
        "#look at the counts of rating\n",
        "print(reviews['rating'].value_counts())\n",
        "\n",
        "#create dictionary\n",
        "rating_dict = {'Loved it':5, 'Liked it':4, 'Was okay':3, 'Not great': 2, 'Hated it':1}\n",
        "\n",
        "#transform rating column\n",
        "reviews['rating'] = reviews['rating'].map(rating_dict)\n",
        "\n",
        "#print your transformed column values\n",
        "print(reviews['rating'].value_counts())\n",
        "\n",
        "#get the number of categories in a feature\n",
        "print(reviews['department_name'].value_counts())\n",
        "\n",
        "#perform get_dummies\n",
        "one_hot = pd.get_dummies(reviews['department_name'])\n",
        "\n",
        "#join the new columns back onto the original\n",
        "reviews = reviews.join(one_hot)\n",
        "\n",
        "#print column names\n",
        "print(reviews.columns)\n",
        "\n",
        "#transform review_date to date-time data\n",
        "reviews['review_date'] =  pd.to_datetime(reviews['review_date'])\n",
        "\n",
        "#print review_date data type\n",
        "print(reviews['review_date'].dtype)\n",
        "\n",
        "#get numerical columns\n",
        "reviews = reviews[['clothing_id', 'age', 'recommended', 'rating', 'Bottoms', 'Dresses', 'Intimate', 'Jackets', 'Tops', 'Trend']].copy()\n",
        "\n",
        "#reset index\n",
        "reviews = reviews.set_index(['clothing_id'])\n",
        "\n",
        "#instantiate standard scaler\n",
        "scaler = StandardScaler()\n",
        "\n",
        "#fit transform data\n",
        "scaler.fit_transform(reviews)\n"
      ]
    }
  ]
}