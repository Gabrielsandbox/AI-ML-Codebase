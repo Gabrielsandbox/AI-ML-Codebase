{
  "nbformat": 4,
  "nbformat_minor": 0,
  "metadata": {
    "colab": {
      "provenance": [],
      "authorship_tag": "ABX9TyPVNRO9JwsOi35RD+ISLpAt",
      "include_colab_link": true
    },
    "kernelspec": {
      "name": "python3",
      "display_name": "Python 3"
    },
    "language_info": {
      "name": "python"
    }
  },
  "cells": [
    {
      "cell_type": "markdown",
      "metadata": {
        "id": "view-in-github",
        "colab_type": "text"
      },
      "source": [
        "<a href=\"https://colab.research.google.com/github/Gabrielsandbox/AI-ML-Codebase/blob/main/LinearRegression_SupervisedLearning.ipynb\" target=\"_parent\"><img src=\"https://colab.research.google.com/assets/colab-badge.svg\" alt=\"Open In Colab\"/></a>"
      ]
    },
    {
      "cell_type": "markdown",
      "source": [
        "# y = mx + b"
      ],
      "metadata": {
        "id": "FNm0KuNuQhny"
      }
    },
    {
      "cell_type": "code",
      "execution_count": 1,
      "metadata": {
        "colab": {
          "base_uri": "https://localhost:8080/",
          "height": 434
        },
        "id": "SkqBHbDGQbDX",
        "outputId": "966deb2d-bce8-40ee-f9e7-95f8cb68c25e"
      },
      "outputs": [
        {
          "output_type": "display_data",
          "data": {
            "text/plain": [
              "<Figure size 640x480 with 1 Axes>"
            ],
            "image/png": "[encoded data removed]"
          },
          "metadata": {}
        }
      ],
      "source": [
        "import matplotlib.pyplot as plt\n",
        "months = [1, 2, 3, 4, 5, 6, 7, 8, 9, 10, 11, 12]\n",
        "revenue = [52, 74, 79, 95, 115, 110, 129, 126, 147, 146, 156, 184]\n",
        "\n",
        "#slope:\n",
        "m = 8\n",
        "#intercept:\n",
        "b = 40\n",
        "\n",
        "y = [m * month + b for month in months]\n",
        "\n",
        "plt.plot(months, y, \"o\", ls='-')\n",
        "\n",
        "plt.show()"
      ]
    },
    {
      "cell_type": "markdown",
      "source": [
        "# **Loss**"
      ],
      "metadata": {
        "id": "YfHAUqi0Q5g6"
      }
    },
    {
      "cell_type": "code",
      "source": [
        "# Squared difference between line and prediction\n",
        "# - loss / + model fit\n",
        "\n",
        "x = [1, 2, 3]\n",
        "y = [5, 1, 3]\n",
        "\n",
        "#y = x\n",
        "m1 = 1\n",
        "b1 = 0\n",
        "\n",
        "#y = 0.5x + 1\n",
        "m2 = 0.5\n",
        "b2 = 1\n",
        "\n",
        "y_predicted1 = [m1*x_value + b1 for x_value in x]\n",
        "y_predicted2 = [m2*x_value + b2 for x_value in x]\n",
        "\n",
        "total_loss1 = 0\n",
        "total_loss2 = 0\n",
        "\n",
        "for i in range(0, len(y)):\n",
        "  total_loss1 += (y[i] - y_predicted1[i]) ** 2\n",
        "  total_loss2 += (y[i] - y_predicted2[i]) ** 2\n",
        "\n",
        "print(total_loss1)\n",
        "print(total_loss2)\n",
        "\n",
        "better_fit = 2"
      ],
      "metadata": {
        "id": "4S-PmQjUQv27"
      },
      "execution_count": null,
      "outputs": []
    },
    {
      "cell_type": "markdown",
      "source": [
        "# **Minimizing Loss**"
      ],
      "metadata": {
        "id": "kC0vI24JRj9J"
      }
    },
    {
      "cell_type": "code",
      "source": [
        "# The goal of a linear regression model is to find the slope and intercept pair that minimizes loss on average across all of the data."
      ],
      "metadata": {
        "id": "motM_rPBRqmC"
      },
      "execution_count": null,
      "outputs": []
    },
    {
      "cell_type": "markdown",
      "source": [
        "# **Gradient Descent**"
      ],
      "metadata": {
        "id": "4pph2exgNiNM"
      }
    },
    {
      "cell_type": "code",
      "source": [
        "# For (b)Intercept = -2/Nsigma (yi - (mxi + b))\n",
        "\n",
        "def get_gradient_at_b( x, y, m, b):\n",
        "\n",
        "  diff = 0\n",
        "  for i in range(0, len(x)):\n",
        "    y_val = y[i]\n",
        "    x_val = x[i]\n",
        "    diff += (y_val - ((m * x_val) + b))\n",
        "\n",
        "  b_gradient = (-2/len(x)) * diff\n",
        "  return b_gradient"
      ],
      "metadata": {
        "id": "G-4gSd6XNnSh"
      },
      "execution_count": null,
      "outputs": []
    },
    {
      "cell_type": "code",
      "source": [
        "# For (m)Slope = -2/Nsigma x*(yi - (mxi + b))\n",
        "\n",
        "def get_gradient_at_m(x, y, m, b):\n",
        "    diff = 0\n",
        "    N = len(x)\n",
        "    for i in range(N):\n",
        "      y_val = y[i]\n",
        "      x_val = x[i]\n",
        "      diff += x_val * (y_val - ((m * x_val) + b))\n",
        "    m_gradient = -2/N * diff\n",
        "    return m_gradient"
      ],
      "metadata": {
        "id": "R3sJncFzRHEW"
      },
      "execution_count": null,
      "outputs": []
    },
    {
      "cell_type": "markdown",
      "source": [
        "# **Step Gradient**"
      ],
      "metadata": {
        "id": "ZRn8rW_JsPzI"
      }
    },
    {
      "cell_type": "code",
      "source": [
        "# new_b = current_b - (learning_rate * b_gradient)\n",
        "# We can scale the size of the step by multiplying the gradient by a learning rate.\n",
        "# Now that we know how to calculate the gradient, we want to take a “step” in that direction.\n",
        "# However, it’s important to think about whether that step is too big or too small.\n",
        "# We don’t want to overshoot the minimum error!\n",
        "\n",
        "def step_gradient( x, y, current_m, current_b)\n",
        "\n",
        "b_gradient = get_gradient_at_b( x, y, current_m, current_b)\n",
        "m_gradient = get_gradient_at_m( x, y, current_m, current_b)\n",
        "\n",
        "b = b_current - (0.01 * b_gradient)\n",
        "m = m_current - (0.01 * m_gradient)\n",
        "\n",
        "\n",
        "return b, m"
      ],
      "metadata": {
        "id": "W10fEWw6sTCs"
      },
      "execution_count": null,
      "outputs": []
    }
  ]
}