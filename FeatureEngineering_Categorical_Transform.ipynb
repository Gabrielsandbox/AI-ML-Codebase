{
  "nbformat": 4,
  "nbformat_minor": 0,
  "metadata": {
    "colab": {
      "provenance": [],
      "authorship_tag": "ABX9TyM+A+3VcCQNjbynfvbCswct",
      "include_colab_link": true
    },
    "kernelspec": {
      "name": "python3",
      "display_name": "Python 3"
    },
    "language_info": {
      "name": "python"
    }
  },
  "cells": [
    {
      "cell_type": "markdown",
      "metadata": {
        "id": "view-in-github",
        "colab_type": "text"
      },
      "source": [
        "<a href=\"https://colab.research.google.com/github/Gabrielsandbox/AI-ML-Codebase/blob/main/FeatureEngineering_Categorical_Transform.ipynb\" target=\"_parent\"><img src=\"https://colab.research.google.com/assets/colab-badge.svg\" alt=\"Open In Colab\"/></a>"
      ]
    },
    {
      "cell_type": "markdown",
      "source": [
        "# **Ordinal Encoding** (Ordinal Data)"
      ],
      "metadata": {
        "id": "ROWx5TOT867S"
      }
    },
    {
      "cell_type": "code",
      "execution_count": null,
      "metadata": {
        "id": "QzmZClzIrc8E"
      },
      "outputs": [],
      "source": [
        "print(cars['condition'].value_counts())\n",
        "# #OUTPUT\n",
        "# New          2881\n",
        "# Like New     2860\n",
        "# Good         2027\n",
        "# Fair          753\n",
        "# Excellent     186\n",
        "\n",
        "# create dictionary of label:values in order\n",
        "rating_dict = {'Excellent':5, 'New':4, 'Like New':3, 'Good':2, 'Fair':1}\n",
        "\n",
        "#create a new column\n",
        "cars['condition_rating'] = cars['condition'].map(rating_dict)\n",
        "\n",
        "'''\n",
        "OR\n",
        "'''\n",
        "# using scikit-learn\n",
        "from sklearn.preprocessing import OrdinalEncoder\n",
        "\n",
        "# create encoder and set category order\n",
        "encoder = OrdinalEncoder(categories=[['Excellent', 'New', 'Like New', 'Good', 'Fair']])\n",
        "\n",
        "# reshape our feature\n",
        "condition_reshaped = cars['condition'].values.reshape(-1,1)\n",
        "\n",
        "# create new variable with assigned numbers\n",
        "cars['condition_rating'] = encoder.fit_transform(condition_reshaped)"
      ]
    },
    {
      "cell_type": "markdown",
      "source": [
        "# **Label Encoding** (Nominal Data)"
      ],
      "metadata": {
        "id": "C8KE-kQ49XyE"
      }
    },
    {
      "cell_type": "code",
      "source": [
        "print(cars['color'].nunique())\n",
        "# #OUTPUT\n",
        "# 19\n",
        "\n",
        "print(cars['color'].value_counts()[:5])\n",
        "# #OUTPUT\n",
        "# black     2015\n",
        "# white     1931\n",
        "# gray      1506\n",
        "# silver    1503\n",
        "# blue       869\n",
        "\n",
        "# convert feature to category type\n",
        "cars['color'] = cars['color'].astype('category')\n",
        "\n",
        "# save new version of category codes\n",
        "cars['color'] = cars['color'].cat.codes\n",
        "\n",
        "# print to see transformation\n",
        "print(cars['color'].value_counts()[:5])\n",
        "# #OUTPUT\n",
        "# 2     2015\n",
        "# 18    1931\n",
        "# 8     1506\n",
        "# 15    1503\n",
        "# 3      869\n",
        "\n",
        "\n",
        "'''\n",
        "OR\n",
        "'''\n",
        "\n",
        "from sklearn.preprocessing import LabelEncoder\n",
        "\n",
        "# create encoder\n",
        "encoder = LabelEncoder()\n",
        "\n",
        "# create new variable with assigned numbers\n",
        "cars['color'] = encoder.fit_transform(cars['color'])"
      ],
      "metadata": {
        "id": "Gf9Shb8Y9bnK"
      },
      "execution_count": null,
      "outputs": []
    },
    {
      "cell_type": "markdown",
      "source": [
        "# **One-hot Encoding**"
      ],
      "metadata": {
        "id": "bUZHeAOI9x_J"
      }
    },
    {
      "cell_type": "code",
      "source": [
        "import pandas as pd\n",
        "# use pandas .get_dummies method to create one new column for each color\n",
        "ohe = pd.get_dummies(cars['color'])\n",
        "\n",
        "# join the new columns back onto our cars dataframe\n",
        "cars = cars.join(ohe)\n",
        "\n",
        "## print the column names\n",
        "print(cars.columns)\n",
        "\n",
        "## check out one of your new columns\n",
        "## print the 'suv' column\n",
        "print(cars['suv'].head())"
      ],
      "metadata": {
        "id": "Oywf5MOd92fS"
      },
      "execution_count": null,
      "outputs": []
    },
    {
      "cell_type": "markdown",
      "source": [
        "# **Binary Encoding**"
      ],
      "metadata": {
        "id": "2BZ4KUqS-I0q"
      }
    },
    {
      "cell_type": "code",
      "source": [
        "# If we find the need to one-hot encode a lot of categorical features which would, in turn,\n",
        "# create a sparse matrix and may cause problems for our model, a strong alternative to this issue is performing a binary encoder.\n",
        "# A binary encoder will find the number of unique categories and then convert each category to its binary representation.\n",
        "\n",
        "from category_encoders import BinaryEncoder\n",
        "\n",
        "#this will create a new data frame with the color column removed and replaced with our 5 new binary feature columns\n",
        "colors = BinaryEncoder(cols = ['color'], drop_invariant = True).fit_transform(cars)"
      ],
      "metadata": {
        "id": "J9aJe-1H-LjS"
      },
      "execution_count": null,
      "outputs": []
    },
    {
      "cell_type": "markdown",
      "source": [
        "# **Hashing**"
      ],
      "metadata": {
        "id": "4ALOy61F-Xwx"
      }
    },
    {
      "cell_type": "code",
      "source": [
        "from category_encoders import HashingEncoder\n",
        "\n",
        "# This process is similar to one-hot encoding where it will create new binary columns,\n",
        "# but within the parameters, you can decide how many features to output.\n",
        "# A huge advantage is reduced dimensionality, but a large disadvantage is that some categories will be mapped to the same values.\n",
        "# That is called collision.\n",
        "# It could be a solution to your project and dataset if you are not as interested in assessing the impact of any particular categorical value.\n",
        "\n",
        "# instantiate our encoder\n",
        "encoder = HashingEncoder(cols='color', n_components=5)\n",
        "\n",
        "# do a fit transform on our color column and set to a new variable\n",
        "hash_results = encoder.fit_transform(cars['color'])"
      ],
      "metadata": {
        "id": "ozEGdKeX-bbS"
      },
      "execution_count": null,
      "outputs": []
    },
    {
      "cell_type": "markdown",
      "source": [
        "# **Target Encoding**"
      ],
      "metadata": {
        "id": "n7ypCbUaFLnu"
      }
    },
    {
      "cell_type": "code",
      "source": [
        "# Target encoding is a Bayesian encoder used to transform categorical features into hashed numerical values and is sometimes called the mean encoder.\n",
        "# This encoder can be utilized for data sets that are being prepared for regression-based supervised learning,\n",
        "# as it needs to take into consideration the mean of the target variable and its correlation between each individual category of our feature.\n",
        "\n",
        "# the numerical values of each category is replaced with a blend of the posterior probability of the target\n",
        "# given a particular categorical value and the prior probability of the target over all the training data.\n",
        "\n",
        "# Some drawbacks to this approach are overfitting and unevenly distributed values that could lead to extremes.\n",
        "\n",
        "# Example:\n",
        "# Say we are preparing our dataset for a regression-based supervised learning algorithm that is trying to predict the selling price.\n",
        "\n",
        "from category_encoders import TargetEncoder\n",
        "\n",
        "# instantiate our encoder\n",
        "encoder = TargetEncoder(cols = 'color')\n",
        "\n",
        "# set the results of our fit_transform to a variable\n",
        "# the output will be its own pandas series\n",
        "encoder_results = encoder.fit_transform(cars['color'], cars['sellingprice'])\n",
        "\n",
        "print(encoder_results.head())\n",
        "#   color\n",
        "# 0 11761.881473\n",
        "# 1 18007.276995\n",
        "# 2 8458.251232\n",
        "# 3 14769.292595\n",
        "# 4 12691.099747\n",
        "\n",
        "# print all 19 unique values\n",
        "print(np.sort(encoder_results['color'].unique()))\n",
        "# OUTPUT\n",
        "# [ 3054.12209927  8088.87434555  8458.25123153  9276.78571429\n",
        "#   9867.50002121  9885.8093167  11043.90243902 11247.82608763\n",
        "#  11761.88147296 11805.06187625 12124.83443709 12376.19047882\n",
        "#  12691.09974747 13912.83399734 14769.29259451 15496.72704715\n",
        "#  17174.36440678 17176.25931731 18007.27699531 18048.52540833]"
      ],
      "metadata": {
        "id": "tfs5ybCQFOVy"
      },
      "execution_count": null,
      "outputs": []
    },
    {
      "cell_type": "markdown",
      "source": [
        "# **Encoding date-time variables**"
      ],
      "metadata": {
        "id": "O0Ok4j98GfDS"
      }
    },
    {
      "cell_type": "code",
      "source": [
        "print(cars['saledate'].dtypes)\n",
        "# # OUTPUT\n",
        "# dtype('O')\n",
        "\n",
        "cars['saledate'] = pd.to_datetime(cars['saledate'])\n",
        "# #OUTPUT\n",
        "# datetime64[ns, tzlocal()]\n",
        "\n",
        "# create new variable for month\n",
        "cars['month'] = cars['saledate'].dt.month\n",
        "\n",
        "# create new variable for day of the week\n",
        "cars['dayofweek'] = cars['saledate'].dt.day\n",
        "\n",
        "# create new variable for difference between cars model year and year sold\n",
        "cars['yearbuild_sold'] = cars['saledate'].dt.year - cars['year']\n",
        "\n",
        "#available methods through pandas .dt\n",
        "df[‘col’].dt.year\t# Outputs the year\n",
        "df[‘col’].dt.day\t# Outputs the day number\n",
        "df[‘col’].dt.hour\t# Outputs the hour from the time\n",
        "df[‘col’].dt.minute\t# Outputs the minute from the time\n",
        "df[‘col’].dt.second\t# Outputs the seconds from the time\n",
        "df[‘col’].dt.week\t# Outputs the week ordinal of the year\n",
        "df[‘col’].dt.dayofweek\t# Outputs the day of the week with Monday = 0 & Sunday = 6"
      ],
      "metadata": {
        "id": "Sm2jDyeiGiGs"
      },
      "execution_count": null,
      "outputs": []
    }
  ]
}